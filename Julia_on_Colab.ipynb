{
  "nbformat": 4,
  "nbformat_minor": 0,
  "metadata": {
    "colab": {
      "name": "Julia on Colab.ipynb",
      "provenance": [],
      "private_outputs": true,
      "include_colab_link": true
    },
    "kernelspec": {
      "name": "julia-1.2",
      "display_name": "Julia 1.2"
    },
    "accelerator": "GPU"
  },
  "cells": [
    {
      "cell_type": "markdown",
      "metadata": {
        "id": "view-in-github",
        "colab_type": "text"
      },
      "source": [
        "<a href=\"https://colab.research.google.com/github/PedroRachi/Julia/blob/master/Julia_on_Colab.ipynb\" target=\"_parent\"><img src=\"https://colab.research.google.com/assets/colab-badge.svg\" alt=\"Open In Colab\"/></a>"
      ]
    },
    {
      "cell_type": "markdown",
      "metadata": {
        "id": "tDU7KoJkK60I",
        "colab_type": "text"
      },
      "source": [
        "![alt text](https://miro.medium.com/max/600/1*fep4idD8f924P1D6rlL1uw.jpeg)\n",
        "#Condicionais em Julia\n",
        "\n",
        "###Condicionais são usados para tomar decisões. Por exemplo,"
      ]
    },
    {
      "cell_type": "code",
      "metadata": {
        "id": "7GtftAkdLub2",
        "colab_type": "code",
        "colab": {}
      },
      "source": [
        "i = 1\n",
        "if i == 2\n",
        "  println(\"o i é 2\")\n",
        "elseif i == 3\n",
        "  println(\"o i é 3\")\n",
        "else\n",
        "  println(\"o i não é 2 e nem 3\")\n",
        "end"
      ],
      "execution_count": 0,
      "outputs": []
    },
    {
      "cell_type": "code",
      "metadata": {
        "id": "fniayLDSPWwP",
        "colab_type": "code",
        "colab": {}
      },
      "source": [
        "x = 2"
      ],
      "execution_count": 0,
      "outputs": []
    },
    {
      "cell_type": "code",
      "metadata": {
        "id": "DObtlj2fPYz4",
        "colab_type": "code",
        "colab": {}
      },
      "source": [
        "x == 2"
      ],
      "execution_count": 0,
      "outputs": []
    },
    {
      "cell_type": "code",
      "metadata": {
        "id": "q4ttd3tZP_CT",
        "colab_type": "code",
        "colab": {}
      },
      "source": [
        "x = 1 ; y = 3 ;"
      ],
      "execution_count": 0,
      "outputs": []
    },
    {
      "cell_type": "code",
      "metadata": {
        "id": "aV3hB1jaQGqs",
        "colab_type": "code",
        "colab": {}
      },
      "source": [
        "x == 2 & y == 3"
      ],
      "execution_count": 0,
      "outputs": []
    },
    {
      "cell_type": "code",
      "metadata": {
        "id": "ntc8VU2hRJVV",
        "colab_type": "code",
        "colab": {}
      },
      "source": [
        "x == 1 & y == 4"
      ],
      "execution_count": 0,
      "outputs": []
    },
    {
      "cell_type": "code",
      "metadata": {
        "id": "kPFdPBUzRRme",
        "colab_type": "code",
        "colab": {}
      },
      "source": [
        "x == 1 | y == 4"
      ],
      "execution_count": 0,
      "outputs": []
    },
    {
      "cell_type": "code",
      "metadata": {
        "id": "sVLIr-CgRXcS",
        "colab_type": "code",
        "colab": {}
      },
      "source": [
        "x == 1 & y != 4"
      ],
      "execution_count": 0,
      "outputs": []
    },
    {
      "cell_type": "code",
      "metadata": {
        "id": "rI55yBe6SGWO",
        "colab_type": "code",
        "colab": {}
      },
      "source": [
        "x = 2 ; y = 3 ;"
      ],
      "execution_count": 0,
      "outputs": []
    },
    {
      "cell_type": "code",
      "metadata": {
        "id": "3xehMfyPSZes",
        "colab_type": "code",
        "colab": {}
      },
      "source": [
        "if x == 2 & y != 4\n",
        "  println(\"Entrou no if\")\n",
        "end"
      ],
      "execution_count": 0,
      "outputs": []
    },
    {
      "cell_type": "markdown",
      "metadata": {
        "id": "Ofdgre3JTHjl",
        "colab_type": "text"
      },
      "source": [
        "#**Laços** de repetição em Julia\n",
        "#####**Laços** são estruturas que permitem a reperição de instruções, ou a atualização de variaveis, muitas vezes. Há duas principais formas de fazer **laços em Julia**. que usaremos aqui. Vejamos exemplos:\n",
        "\n",
        "##**Tipo For**"
      ]
    },
    {
      "cell_type": "code",
      "metadata": {
        "id": "60D_eZiOTOs5",
        "colab_type": "code",
        "colab": {}
      },
      "source": [
        "for i in 1:10\n",
        "  println(2*1)\n",
        "end"
      ],
      "execution_count": 0,
      "outputs": []
    },
    {
      "cell_type": "markdown",
      "metadata": {
        "id": "fS86271FbQD9",
        "colab_type": "text"
      },
      "source": [
        "##T**ipo While**"
      ]
    },
    {
      "cell_type": "code",
      "metadata": {
        "id": "GT-J0fWEXZSW",
        "colab_type": "code",
        "colab": {}
      },
      "source": [
        "while rand(1:100) < 80\n",
        "  println(\"menores que 80\")\n",
        "end"
      ],
      "execution_count": 0,
      "outputs": []
    },
    {
      "cell_type": "markdown",
      "metadata": {
        "id": "10FgOl3QbHfx",
        "colab_type": "text"
      },
      "source": [
        "###Comando **break** e **continue**"
      ]
    },
    {
      "cell_type": "code",
      "metadata": {
        "id": "H6wuVovfbkp0",
        "colab_type": "code",
        "colab": {}
      },
      "source": [
        "for i in 1:10\n",
        "  if i == 7\n",
        "    break\n",
        "  end\n",
        "  println(i)\n",
        "end"
      ],
      "execution_count": 0,
      "outputs": []
    }
  ]
}